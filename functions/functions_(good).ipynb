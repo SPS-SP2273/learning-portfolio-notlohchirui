{
 "cells": [
  {
   "cell_type": "markdown",
   "id": "123456",
   "metadata": {},
   "source": [
    "<div style=\"text-align:left;font-size:2em\"><span style=\"font-weight:bolder;font-size:1.25em\">SP2273 | Learning Portfolio</span><br><br><span style=\"font-weight:bold;color:darkred\">Functions (Good)</span></div>"
   ]
  },
  {
   "cell_type": "markdown",
   "id": "f608efa6",
   "metadata": {},
   "source": [
    "## 1 Check, balances and contingencies"
   ]
  },
  {
   "cell_type": "markdown",
   "id": "9bd4535f",
   "metadata": {},
   "source": [
    "### 1.1 assert"
   ]
  },
  {
   "cell_type": "code",
   "execution_count": 10,
   "id": "96b313b9",
   "metadata": {},
   "outputs": [
    {
     "name": "stdout",
     "output_type": "stream",
     "text": [
      "\n"
     ]
    }
   ],
   "source": [
    "x=10\n",
    "assert x >= 0, \"x is becoming negative!\"\n",
    "# assert condition-to-check, message if condition fails\n",
    "print()"
   ]
  },
  {
   "cell_type": "code",
   "execution_count": 9,
   "id": "7edae208",
   "metadata": {},
   "outputs": [
    {
     "ename": "AssertionError",
     "evalue": "x is becoming negative!",
     "output_type": "error",
     "traceback": [
      "\u001b[1;31m---------------------------------------------------------------------------\u001b[0m",
      "\u001b[1;31mAssertionError\u001b[0m                            Traceback (most recent call last)",
      "Cell \u001b[1;32mIn[9], line 2\u001b[0m\n\u001b[0;32m      1\u001b[0m x\u001b[38;5;241m=\u001b[39m\u001b[38;5;241m-\u001b[39m\u001b[38;5;241m1\u001b[39m\n\u001b[1;32m----> 2\u001b[0m \u001b[38;5;28;01massert\u001b[39;00m x \u001b[38;5;241m>\u001b[39m\u001b[38;5;241m=\u001b[39m \u001b[38;5;241m0\u001b[39m, \u001b[38;5;124m\"\u001b[39m\u001b[38;5;124mx is becoming negative!\u001b[39m\u001b[38;5;124m\"\u001b[39m\n",
      "\u001b[1;31mAssertionError\u001b[0m: x is becoming negative!"
     ]
    }
   ],
   "source": [
    "x=-1\n",
    "assert x >= 0, \"x is becoming negative!\""
   ]
  },
  {
   "cell_type": "markdown",
   "id": "4291d6f2",
   "metadata": {},
   "source": [
    "### 1.2 try-except"
   ]
  },
  {
   "cell_type": "code",
   "execution_count": 12,
   "id": "ebb6d695",
   "metadata": {},
   "outputs": [
    {
     "ename": "ZeroDivisionError",
     "evalue": "division by zero",
     "output_type": "error",
     "traceback": [
      "\u001b[1;31m---------------------------------------------------------------------------\u001b[0m",
      "\u001b[1;31mZeroDivisionError\u001b[0m                         Traceback (most recent call last)",
      "Cell \u001b[1;32mIn[12], line 1\u001b[0m\n\u001b[1;32m----> 1\u001b[0m \u001b[38;5;241;43m5\u001b[39;49m\u001b[38;5;241;43m/\u001b[39;49m\u001b[38;5;241;43m0\u001b[39;49m \u001b[38;5;66;03m# example for exception, aka error\u001b[39;00m\n",
      "\u001b[1;31mZeroDivisionError\u001b[0m: division by zero"
     ]
    }
   ],
   "source": [
    "5/0 # example for exception, aka error"
   ]
  },
  {
   "cell_type": "code",
   "execution_count": 14,
   "id": "9524245b",
   "metadata": {},
   "outputs": [
    {
     "name": "stdout",
     "output_type": "stream",
     "text": [
      "Give me a number and I will calculate its square.69\n",
      "The square of 69 is 4761!\n"
     ]
    }
   ],
   "source": [
    "number=input(\"Give me a number and I will calculate its square.\")\n",
    "square=int(number)**2              # Int() converts English to integers\n",
    "print(f'The square of {number} is {square}!')"
   ]
  },
  {
   "cell_type": "code",
   "execution_count": 15,
   "id": "ca3c1371",
   "metadata": {},
   "outputs": [
    {
     "name": "stdout",
     "output_type": "stream",
     "text": [
      "Give me a number and I will calculate its square.hahaha\n",
      "Oh oh! I cannot square hahaha!\n"
     ]
    }
   ],
   "source": [
    "try:\n",
    "    number=input(\"Give me a number and I will calculate its square.\")\n",
    "    square=int(number)**2\n",
    "    print(f'The square of {number} is {square}!')\n",
    "except:\n",
    "    print(f\"Oh oh! I cannot square {number}!\")"
   ]
  },
  {
   "cell_type": "markdown",
   "id": "e024460d",
   "metadata": {},
   "source": [
    "## 2 Some loose ends"
   ]
  },
  {
   "cell_type": "markdown",
   "id": "73b97baa",
   "metadata": {},
   "source": [
    "### 2.1 Positional, keyword and default arguments"
   ]
  },
  {
   "cell_type": "code",
   "execution_count": 26,
   "id": "959620b4",
   "metadata": {},
   "outputs": [],
   "source": [
    "def funny_add(a, b, c=1):   # when c is not defined, c=1 is the default\n",
    "    return a + 10*b + 100*c"
   ]
  },
  {
   "cell_type": "code",
   "execution_count": 19,
   "id": "cb688e98",
   "metadata": {},
   "outputs": [
    {
     "data": {
      "text/plain": [
       "121"
      ]
     },
     "execution_count": 19,
     "metadata": {},
     "output_type": "execute_result"
    }
   ],
   "source": [
    "funny_add(1, 2)           # Two positional, 1 default\n",
    "#> 121"
   ]
  },
  {
   "cell_type": "code",
   "execution_count": 20,
   "id": "a2e8afc4",
   "metadata": {},
   "outputs": [
    {
     "data": {
      "text/plain": [
       "321"
      ]
     },
     "execution_count": 20,
     "metadata": {},
     "output_type": "execute_result"
    }
   ],
   "source": [
    "funny_add(1, 2, 3)        # Three positional\n",
    "#> 321"
   ]
  },
  {
   "cell_type": "code",
   "execution_count": 21,
   "id": "17377721",
   "metadata": {},
   "outputs": [
    {
     "data": {
      "text/plain": [
       "121"
      ]
     },
     "execution_count": 21,
     "metadata": {},
     "output_type": "execute_result"
    }
   ],
   "source": [
    "funny_add(a=1, b=2)       # Two keyword, 1 default\n",
    "#> 121"
   ]
  },
  {
   "cell_type": "code",
   "execution_count": 22,
   "id": "0242f835",
   "metadata": {},
   "outputs": [
    {
     "data": {
      "text/plain": [
       "312"
      ]
     },
     "execution_count": 22,
     "metadata": {},
     "output_type": "execute_result"
    }
   ],
   "source": [
    "funny_add(c=3, b=1, a=2)  # Three keyword\n",
    "#> 312"
   ]
  },
  {
   "cell_type": "code",
   "execution_count": 23,
   "id": "c9cea2c7",
   "metadata": {},
   "outputs": [
    {
     "data": {
      "text/plain": [
       "321"
      ]
     },
     "execution_count": 23,
     "metadata": {},
     "output_type": "execute_result"
    }
   ],
   "source": [
    "funny_add(1, c=3, b=2)    # One positional, 2 keyword\n",
    "#> 321"
   ]
  },
  {
   "cell_type": "code",
   "execution_count": 24,
   "id": "bd2dcbe9",
   "metadata": {},
   "outputs": [
    {
     "data": {
      "text/plain": [
       "121"
      ]
     },
     "execution_count": 24,
     "metadata": {},
     "output_type": "execute_result"
    }
   ],
   "source": [
    "funny_add(1, b=2)         # One positional, 1 keyword, 1 default\n",
    "#> 121"
   ]
  },
  {
   "cell_type": "code",
   "execution_count": 27,
   "id": "119a7c31",
   "metadata": {},
   "outputs": [
    {
     "ename": "SyntaxError",
     "evalue": "positional argument follows keyword argument (25483117.py, line 1)",
     "output_type": "error",
     "traceback": [
      "\u001b[1;36m  Cell \u001b[1;32mIn[27], line 1\u001b[1;36m\u001b[0m\n\u001b[1;33m    funny_add(a=2, 1)         # Won't work.\u001b[0m\n\u001b[1;37m                    ^\u001b[0m\n\u001b[1;31mSyntaxError\u001b[0m\u001b[1;31m:\u001b[0m positional argument follows keyword argument\n"
     ]
    }
   ],
   "source": [
    "funny_add(a=2, 1)         # Won't work.\n",
    "                          # Keywords cannot be followed by \n",
    "                          # positional"
   ]
  },
  {
   "cell_type": "markdown",
   "id": "b1e52b26",
   "metadata": {},
   "source": [
    "### 2.2 Docstrings"
   ]
  },
  {
   "cell_type": "code",
   "execution_count": 28,
   "id": "d993e3d4",
   "metadata": {},
   "outputs": [],
   "source": [
    "def funny_add(a, b, c=1):\n",
    "    '''\n",
    "    A test function to demonstrate how \n",
    "    positional, keyword and default arguments \n",
    "    work.\n",
    "    '''\n",
    "    return a + 10*b + 100*c"
   ]
  },
  {
   "cell_type": "code",
   "execution_count": 29,
   "id": "dba7a949",
   "metadata": {},
   "outputs": [
    {
     "name": "stdout",
     "output_type": "stream",
     "text": [
      "Help on function funny_add in module __main__:\n",
      "\n",
      "funny_add(a, b, c=1)\n",
      "    A test function to demonstrate how \n",
      "    positional, keyword and default arguments \n",
      "    work.\n",
      "\n"
     ]
    }
   ],
   "source": [
    "help(funny_add)"
   ]
  },
  {
   "cell_type": "markdown",
   "id": "908250b3",
   "metadata": {},
   "source": [
    "### 2.3 Function are first class citizens"
   ]
  },
  {
   "cell_type": "code",
   "execution_count": 35,
   "id": "e06b9899",
   "metadata": {},
   "outputs": [
    {
     "data": {
      "text/plain": [
       "1.0"
      ]
     },
     "execution_count": 35,
     "metadata": {},
     "output_type": "execute_result"
    }
   ],
   "source": [
    "def my_function(angle, trig_function):\n",
    "        return trig_function(angle)\n",
    "   \n",
    "# pass a function as an argument to another function\n",
    "# np.pi (function) is passed off as an argument, inside the function my_function\n",
    "\n",
    "my_function(np.pi/2, np.sin)        \n",
    "#> 1.0"
   ]
  },
  {
   "cell_type": "code",
   "execution_count": 32,
   "id": "5a4b4eb5",
   "metadata": {},
   "outputs": [
    {
     "data": {
      "text/plain": [
       "6.123233995736766e-17"
      ]
     },
     "execution_count": 32,
     "metadata": {},
     "output_type": "execute_result"
    }
   ],
   "source": [
    "my_function(np.pi/2, np.cos)        \n",
    "#> 6.123233995736766e-17"
   ]
  },
  {
   "cell_type": "code",
   "execution_count": 33,
   "id": "885964e6",
   "metadata": {},
   "outputs": [
    {
     "data": {
      "text/plain": [
       "-1.0"
      ]
     },
     "execution_count": 33,
     "metadata": {},
     "output_type": "execute_result"
    }
   ],
   "source": [
    "my_function(np.pi/2, lambda x: np.cos(2*x))  \n",
    "#> -1.0"
   ]
  },
  {
   "cell_type": "markdown",
   "id": "31942ac2",
   "metadata": {},
   "source": [
    "### 2.4 More unpacking"
   ]
  },
  {
   "cell_type": "code",
   "execution_count": 36,
   "id": "2905ddb9",
   "metadata": {},
   "outputs": [
    {
     "name": "stdout",
     "output_type": "stream",
     "text": [
      "1 2 3\n"
     ]
    }
   ],
   "source": [
    "x, y, z = [1, 2, 3]\n",
    "print(x, y, z)"
   ]
  },
  {
   "cell_type": "code",
   "execution_count": 37,
   "id": "533f708e",
   "metadata": {},
   "outputs": [
    {
     "name": "stdout",
     "output_type": "stream",
     "text": [
      "1 2 3\n"
     ]
    }
   ],
   "source": [
    "x, y, z = np.array([1, 2, 3])\n",
    "print(x, y, z)"
   ]
  },
  {
   "cell_type": "code",
   "execution_count": 43,
   "id": "c6dcbc52",
   "metadata": {},
   "outputs": [
    {
     "name": "stdout",
     "output_type": "stream",
     "text": [
      "1 [2, 3, 4] 5\n"
     ]
    }
   ],
   "source": [
    "x, *y, z = np.array([1, 2, 3, 4, 5])\n",
    "print(x, y, z)\n",
    "# wholesale unpacking all elements in between as one element"
   ]
  },
  {
   "cell_type": "code",
   "execution_count": 40,
   "id": "558b4144",
   "metadata": {},
   "outputs": [
    {
     "name": "stdout",
     "output_type": "stream",
     "text": [
      "1 5\n"
     ]
    }
   ],
   "source": [
    "x, *_, y = [1, 2, 3, 4, 5]\n",
    "print(x, y)\n",
    "# ignore output of all elements except 1st and last elements"
   ]
  },
  {
   "cell_type": "markdown",
   "id": "fc8c316c",
   "metadata": {},
   "source": [
    "## Exercise 1 :  A better calculator I"
   ]
  },
  {
   "cell_type": "code",
   "execution_count": null,
   "id": "702a7037",
   "metadata": {},
   "outputs": [],
   "source": [
    "\n",
    "\n",
    "\n",
    "# Your solution here\n",
    "\n",
    "\n"
   ]
  },
  {
   "cell_type": "markdown",
   "id": "38440980",
   "metadata": {},
   "source": [
    "## Exercise 2 :  A better calculator II"
   ]
  },
  {
   "cell_type": "code",
   "execution_count": null,
   "id": "5366a89a",
   "metadata": {},
   "outputs": [],
   "source": [
    "\n",
    "\n",
    "\n",
    "# Your solution here\n",
    "\n",
    "\n"
   ]
  }
 ],
 "metadata": {
  "kernelspec": {
   "display_name": "Python 3 (ipykernel)",
   "language": "python",
   "name": "python3"
  },
  "language_info": {
   "codemirror_mode": {
    "name": "ipython",
    "version": 3
   },
   "file_extension": ".py",
   "mimetype": "text/x-python",
   "name": "python",
   "nbconvert_exporter": "python",
   "pygments_lexer": "ipython3",
   "version": "3.10.8"
  },
  "toc": {
   "base_numbering": 1,
   "nav_menu": {},
   "number_sections": true,
   "sideBar": true,
   "skip_h1_title": false,
   "title_cell": "Table of Contents",
   "title_sidebar": "Contents",
   "toc_cell": false,
   "toc_position": {},
   "toc_section_display": true,
   "toc_window_display": false
  },
  "varInspector": {
   "cols": {
    "lenName": 16,
    "lenType": 16,
    "lenVar": 40
   },
   "kernels_config": {
    "python": {
     "delete_cmd_postfix": "",
     "delete_cmd_prefix": "del ",
     "library": "var_list.py",
     "varRefreshCmd": "print(var_dic_list())"
    },
    "r": {
     "delete_cmd_postfix": ") ",
     "delete_cmd_prefix": "rm(",
     "library": "var_list.r",
     "varRefreshCmd": "cat(var_dic_list()) "
    }
   },
   "types_to_exclude": [
    "module",
    "function",
    "builtin_function_or_method",
    "instance",
    "_Feature"
   ],
   "window_display": false
  },
  "vscode": {
   "interpreter": {
    "hash": "31f2aee4e71d21fbe5cf8b01ff0e069b9275f58929596ceb00d14d90e3e16cd6"
   }
  }
 },
 "nbformat": 4,
 "nbformat_minor": 5
}
