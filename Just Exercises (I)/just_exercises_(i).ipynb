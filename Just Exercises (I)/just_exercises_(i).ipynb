{
 "cells": [
  {
   "cell_type": "markdown",
   "id": "123456",
   "metadata": {},
   "source": [
    "<div style=\"text-align:left;font-size:2em\"><span style=\"font-weight:bolder;font-size:1.25em\">SP2273 | Learning Portfolio</span><br><br><span style=\"font-weight:bold;color:darkred\">Just Exercises (I)</span></div>"
   ]
  },
  {
   "cell_type": "markdown",
   "id": "d2960d95",
   "metadata": {},
   "source": [
    "## Exercise 1 :  F-strings to the rescue"
   ]
  },
  {
   "cell_type": "code",
   "execution_count": 11,
   "id": "d1452f6c",
   "metadata": {},
   "outputs": [
    {
     "name": "stdout",
     "output_type": "stream",
     "text": [
      "00000\n",
      "00001\n",
      "00002\n",
      "00003\n",
      "00004\n",
      "00005\n",
      "00006\n",
      "00007\n",
      "00008\n",
      "00009\n",
      "00010\n"
     ]
    }
   ],
   "source": [
    "for i in range(11):\n",
    "    print(f'{i:05.0f}')"
   ]
  },
  {
   "cell_type": "code",
   "execution_count": 11,
   "id": "1bf8a2d2",
   "metadata": {},
   "outputs": [
    {
     "name": "stdout",
     "output_type": "stream",
     "text": [
      "001          +\n",
      "002         ++\n",
      "003        +++\n",
      "004       ++++\n",
      "005      +++++\n",
      "006     ++++++\n",
      "007    +++++++\n",
      "008   ++++++++\n",
      "009  +++++++++\n",
      "010 ++++++++++\n"
     ]
    }
   ],
   "source": [
    "for i in range(1, 11):\n",
    "    print(f'{i:03.0f} {\"+\"*i:>10}')"
   ]
  },
  {
   "cell_type": "code",
   "execution_count": 25,
   "id": "403bc88d",
   "metadata": {},
   "outputs": [
    {
     "name": "stdout",
     "output_type": "stream",
     "text": [
      "001 -+++++++++\n",
      "002 --++++++++\n",
      "003 ---+++++++\n",
      "004 ----++++++\n",
      "005 -----+++++\n",
      "006 ------++++\n",
      "007 -------+++\n",
      "008 --------++\n",
      "009 ---------+\n",
      "010 ----------\n"
     ]
    }
   ],
   "source": [
    "for i in range(1, 11):\n",
    "    print(f'{i:03.0f} {\"-\"*i}{\"+\"*(10-i)}')"
   ]
  },
  {
   "cell_type": "code",
   "execution_count": 45,
   "id": "c8fae99e",
   "metadata": {
    "code_folding": []
   },
   "outputs": [
    {
     "name": "stdout",
     "output_type": "stream",
     "text": [
      "['bruce_exploits.txt', 'bruce_enemies.txt', 'bruce_friends.txt', 'natasha_exploits.txt', 'natasha_enemies.txt', 'natasha_friends.txt', 'tony_exploits.txt', 'tony_enemies.txt', 'tony_friends.txt']\n"
     ]
    }
   ],
   "source": [
    "rando_names = [\"bruce\", \"natasha\", \"tony\"]\n",
    "suffixes = [\"exploits\", \"enemies\", \"friends\"]\n",
    "file = []\n",
    "\n",
    "for x in range(len(rando_names)):\n",
    "    rando_name = rando_names[x]\n",
    "    \n",
    "    for y in range(len(suffixes)):\n",
    "        suffix = suffixes[y]\n",
    "        \n",
    "        file.append(f'{rando_name}_{suffix}.txt')\n",
    "print(file)"
   ]
  },
  {
   "cell_type": "code",
   "execution_count": 50,
   "id": "24c78562",
   "metadata": {},
   "outputs": [
    {
     "name": "stdout",
     "output_type": "stream",
     "text": [
      "['data_sg_exp-001_trial-001.txt', 'data_sg_exp-001_trial-002.txt', 'data_sg_exp-001_trial-003.txt', 'data_sg_exp-001_trial-004.txt', 'data_sg_exp-001_trial-005.txt', 'data_sg_exp-001_trial-006.txt', 'data_sg_exp-001_trial-007.txt', 'data_sg_exp-001_trial-008.txt', 'data_sg_exp-001_trial-009.txt', 'data_sg_exp-001_trial-010.txt', 'data_sg_exp-001_trial-011.txt', 'data_sg_exp-001_trial-012.txt', 'data_sg_exp-001_trial-013.txt', 'data_sg_exp-001_trial-014.txt', 'data_sg_exp-001_trial-015.txt', 'data_sg_exp-001_trial-016.txt', 'data_sg_exp-001_trial-017.txt', 'data_sg_exp-001_trial-018.txt', 'data_sg_exp-001_trial-019.txt', 'data_sg_exp-001_trial-020.txt', 'data_sg_exp-001_trial-021.txt', 'data_sg_exp-001_trial-022.txt', 'data_sg_exp-001_trial-023.txt', 'data_sg_exp-001_trial-024.txt', 'data_sg_exp-001_trial-025.txt', 'data_sg_exp-001_trial-026.txt', 'data_sg_exp-001_trial-027.txt', 'data_sg_exp-001_trial-028.txt', 'data_sg_exp-001_trial-029.txt', 'data_sg_exp-001_trial-030.txt', 'data_sg_exp-001_trial-031.txt', 'data_sg_exp-001_trial-032.txt', 'data_sg_exp-001_trial-033.txt', 'data_sg_exp-001_trial-034.txt', 'data_sg_exp-001_trial-035.txt', 'data_sg_exp-001_trial-036.txt', 'data_sg_exp-001_trial-037.txt', 'data_sg_exp-001_trial-038.txt', 'data_sg_exp-001_trial-039.txt', 'data_sg_exp-001_trial-040.txt', 'data_sg_exp-001_trial-041.txt', 'data_sg_exp-001_trial-042.txt', 'data_sg_exp-001_trial-043.txt', 'data_sg_exp-001_trial-044.txt', 'data_sg_exp-001_trial-045.txt', 'data_sg_exp-001_trial-046.txt', 'data_sg_exp-001_trial-047.txt', 'data_sg_exp-001_trial-048.txt', 'data_sg_exp-001_trial-049.txt', 'data_sg_exp-001_trial-050.txt', 'data_sg_exp-002_trial-001.txt', 'data_sg_exp-002_trial-002.txt', 'data_sg_exp-002_trial-003.txt', 'data_sg_exp-002_trial-004.txt', 'data_sg_exp-002_trial-005.txt', 'data_sg_exp-002_trial-006.txt', 'data_sg_exp-002_trial-007.txt', 'data_sg_exp-002_trial-008.txt', 'data_sg_exp-002_trial-009.txt', 'data_sg_exp-002_trial-010.txt', 'data_sg_exp-002_trial-011.txt', 'data_sg_exp-002_trial-012.txt', 'data_sg_exp-002_trial-013.txt', 'data_sg_exp-002_trial-014.txt', 'data_sg_exp-002_trial-015.txt', 'data_sg_exp-002_trial-016.txt', 'data_sg_exp-002_trial-017.txt', 'data_sg_exp-002_trial-018.txt', 'data_sg_exp-002_trial-019.txt', 'data_sg_exp-002_trial-020.txt', 'data_sg_exp-002_trial-021.txt', 'data_sg_exp-002_trial-022.txt', 'data_sg_exp-002_trial-023.txt', 'data_sg_exp-002_trial-024.txt', 'data_sg_exp-002_trial-025.txt', 'data_sg_exp-002_trial-026.txt', 'data_sg_exp-002_trial-027.txt', 'data_sg_exp-002_trial-028.txt', 'data_sg_exp-002_trial-029.txt', 'data_sg_exp-002_trial-030.txt', 'data_sg_exp-002_trial-031.txt', 'data_sg_exp-002_trial-032.txt', 'data_sg_exp-002_trial-033.txt', 'data_sg_exp-002_trial-034.txt', 'data_sg_exp-002_trial-035.txt', 'data_sg_exp-002_trial-036.txt', 'data_sg_exp-002_trial-037.txt', 'data_sg_exp-002_trial-038.txt', 'data_sg_exp-002_trial-039.txt', 'data_sg_exp-002_trial-040.txt', 'data_sg_exp-002_trial-041.txt', 'data_sg_exp-002_trial-042.txt', 'data_sg_exp-002_trial-043.txt', 'data_sg_exp-002_trial-044.txt', 'data_sg_exp-002_trial-045.txt', 'data_sg_exp-002_trial-046.txt', 'data_sg_exp-002_trial-047.txt', 'data_sg_exp-002_trial-048.txt', 'data_sg_exp-002_trial-049.txt', 'data_sg_exp-002_trial-050.txt', 'data_sg_exp-003_trial-001.txt', 'data_sg_exp-003_trial-002.txt', 'data_sg_exp-003_trial-003.txt', 'data_sg_exp-003_trial-004.txt', 'data_sg_exp-003_trial-005.txt', 'data_sg_exp-003_trial-006.txt', 'data_sg_exp-003_trial-007.txt', 'data_sg_exp-003_trial-008.txt', 'data_sg_exp-003_trial-009.txt', 'data_sg_exp-003_trial-010.txt', 'data_sg_exp-003_trial-011.txt', 'data_sg_exp-003_trial-012.txt', 'data_sg_exp-003_trial-013.txt', 'data_sg_exp-003_trial-014.txt', 'data_sg_exp-003_trial-015.txt', 'data_sg_exp-003_trial-016.txt', 'data_sg_exp-003_trial-017.txt', 'data_sg_exp-003_trial-018.txt', 'data_sg_exp-003_trial-019.txt', 'data_sg_exp-003_trial-020.txt', 'data_sg_exp-003_trial-021.txt', 'data_sg_exp-003_trial-022.txt', 'data_sg_exp-003_trial-023.txt', 'data_sg_exp-003_trial-024.txt', 'data_sg_exp-003_trial-025.txt', 'data_sg_exp-003_trial-026.txt', 'data_sg_exp-003_trial-027.txt', 'data_sg_exp-003_trial-028.txt', 'data_sg_exp-003_trial-029.txt', 'data_sg_exp-003_trial-030.txt', 'data_sg_exp-003_trial-031.txt', 'data_sg_exp-003_trial-032.txt', 'data_sg_exp-003_trial-033.txt', 'data_sg_exp-003_trial-034.txt', 'data_sg_exp-003_trial-035.txt', 'data_sg_exp-003_trial-036.txt', 'data_sg_exp-003_trial-037.txt', 'data_sg_exp-003_trial-038.txt', 'data_sg_exp-003_trial-039.txt', 'data_sg_exp-003_trial-040.txt', 'data_sg_exp-003_trial-041.txt', 'data_sg_exp-003_trial-042.txt', 'data_sg_exp-003_trial-043.txt', 'data_sg_exp-003_trial-044.txt', 'data_sg_exp-003_trial-045.txt', 'data_sg_exp-003_trial-046.txt', 'data_sg_exp-003_trial-047.txt', 'data_sg_exp-003_trial-048.txt', 'data_sg_exp-003_trial-049.txt', 'data_sg_exp-003_trial-050.txt', 'data_gb_exp-001_trial-001.txt', 'data_gb_exp-001_trial-002.txt', 'data_gb_exp-001_trial-003.txt', 'data_gb_exp-001_trial-004.txt', 'data_gb_exp-001_trial-005.txt', 'data_gb_exp-001_trial-006.txt', 'data_gb_exp-001_trial-007.txt', 'data_gb_exp-001_trial-008.txt', 'data_gb_exp-001_trial-009.txt', 'data_gb_exp-001_trial-010.txt', 'data_gb_exp-001_trial-011.txt', 'data_gb_exp-001_trial-012.txt', 'data_gb_exp-001_trial-013.txt', 'data_gb_exp-001_trial-014.txt', 'data_gb_exp-001_trial-015.txt', 'data_gb_exp-001_trial-016.txt', 'data_gb_exp-001_trial-017.txt', 'data_gb_exp-001_trial-018.txt', 'data_gb_exp-001_trial-019.txt', 'data_gb_exp-001_trial-020.txt', 'data_gb_exp-001_trial-021.txt', 'data_gb_exp-001_trial-022.txt', 'data_gb_exp-001_trial-023.txt', 'data_gb_exp-001_trial-024.txt', 'data_gb_exp-001_trial-025.txt', 'data_gb_exp-001_trial-026.txt', 'data_gb_exp-001_trial-027.txt', 'data_gb_exp-001_trial-028.txt', 'data_gb_exp-001_trial-029.txt', 'data_gb_exp-001_trial-030.txt', 'data_gb_exp-001_trial-031.txt', 'data_gb_exp-001_trial-032.txt', 'data_gb_exp-001_trial-033.txt', 'data_gb_exp-001_trial-034.txt', 'data_gb_exp-001_trial-035.txt', 'data_gb_exp-001_trial-036.txt', 'data_gb_exp-001_trial-037.txt', 'data_gb_exp-001_trial-038.txt', 'data_gb_exp-001_trial-039.txt', 'data_gb_exp-001_trial-040.txt', 'data_gb_exp-001_trial-041.txt', 'data_gb_exp-001_trial-042.txt', 'data_gb_exp-001_trial-043.txt', 'data_gb_exp-001_trial-044.txt', 'data_gb_exp-001_trial-045.txt', 'data_gb_exp-001_trial-046.txt', 'data_gb_exp-001_trial-047.txt', 'data_gb_exp-001_trial-048.txt', 'data_gb_exp-001_trial-049.txt', 'data_gb_exp-001_trial-050.txt', 'data_gb_exp-002_trial-001.txt', 'data_gb_exp-002_trial-002.txt', 'data_gb_exp-002_trial-003.txt', 'data_gb_exp-002_trial-004.txt', 'data_gb_exp-002_trial-005.txt', 'data_gb_exp-002_trial-006.txt', 'data_gb_exp-002_trial-007.txt', 'data_gb_exp-002_trial-008.txt', 'data_gb_exp-002_trial-009.txt', 'data_gb_exp-002_trial-010.txt', 'data_gb_exp-002_trial-011.txt', 'data_gb_exp-002_trial-012.txt', 'data_gb_exp-002_trial-013.txt', 'data_gb_exp-002_trial-014.txt', 'data_gb_exp-002_trial-015.txt', 'data_gb_exp-002_trial-016.txt', 'data_gb_exp-002_trial-017.txt', 'data_gb_exp-002_trial-018.txt', 'data_gb_exp-002_trial-019.txt', 'data_gb_exp-002_trial-020.txt', 'data_gb_exp-002_trial-021.txt', 'data_gb_exp-002_trial-022.txt', 'data_gb_exp-002_trial-023.txt', 'data_gb_exp-002_trial-024.txt', 'data_gb_exp-002_trial-025.txt', 'data_gb_exp-002_trial-026.txt', 'data_gb_exp-002_trial-027.txt', 'data_gb_exp-002_trial-028.txt', 'data_gb_exp-002_trial-029.txt', 'data_gb_exp-002_trial-030.txt', 'data_gb_exp-002_trial-031.txt', 'data_gb_exp-002_trial-032.txt', 'data_gb_exp-002_trial-033.txt', 'data_gb_exp-002_trial-034.txt', 'data_gb_exp-002_trial-035.txt', 'data_gb_exp-002_trial-036.txt', 'data_gb_exp-002_trial-037.txt', 'data_gb_exp-002_trial-038.txt', 'data_gb_exp-002_trial-039.txt', 'data_gb_exp-002_trial-040.txt', 'data_gb_exp-002_trial-041.txt', 'data_gb_exp-002_trial-042.txt', 'data_gb_exp-002_trial-043.txt', 'data_gb_exp-002_trial-044.txt', 'data_gb_exp-002_trial-045.txt', 'data_gb_exp-002_trial-046.txt', 'data_gb_exp-002_trial-047.txt', 'data_gb_exp-002_trial-048.txt', 'data_gb_exp-002_trial-049.txt', 'data_gb_exp-002_trial-050.txt', 'data_gb_exp-003_trial-001.txt', 'data_gb_exp-003_trial-002.txt', 'data_gb_exp-003_trial-003.txt', 'data_gb_exp-003_trial-004.txt', 'data_gb_exp-003_trial-005.txt', 'data_gb_exp-003_trial-006.txt', 'data_gb_exp-003_trial-007.txt', 'data_gb_exp-003_trial-008.txt', 'data_gb_exp-003_trial-009.txt', 'data_gb_exp-003_trial-010.txt', 'data_gb_exp-003_trial-011.txt', 'data_gb_exp-003_trial-012.txt', 'data_gb_exp-003_trial-013.txt', 'data_gb_exp-003_trial-014.txt', 'data_gb_exp-003_trial-015.txt', 'data_gb_exp-003_trial-016.txt', 'data_gb_exp-003_trial-017.txt', 'data_gb_exp-003_trial-018.txt', 'data_gb_exp-003_trial-019.txt', 'data_gb_exp-003_trial-020.txt', 'data_gb_exp-003_trial-021.txt', 'data_gb_exp-003_trial-022.txt', 'data_gb_exp-003_trial-023.txt', 'data_gb_exp-003_trial-024.txt', 'data_gb_exp-003_trial-025.txt', 'data_gb_exp-003_trial-026.txt', 'data_gb_exp-003_trial-027.txt', 'data_gb_exp-003_trial-028.txt', 'data_gb_exp-003_trial-029.txt', 'data_gb_exp-003_trial-030.txt', 'data_gb_exp-003_trial-031.txt', 'data_gb_exp-003_trial-032.txt', 'data_gb_exp-003_trial-033.txt', 'data_gb_exp-003_trial-034.txt', 'data_gb_exp-003_trial-035.txt', 'data_gb_exp-003_trial-036.txt', 'data_gb_exp-003_trial-037.txt', 'data_gb_exp-003_trial-038.txt', 'data_gb_exp-003_trial-039.txt', 'data_gb_exp-003_trial-040.txt', 'data_gb_exp-003_trial-041.txt', 'data_gb_exp-003_trial-042.txt', 'data_gb_exp-003_trial-043.txt', 'data_gb_exp-003_trial-044.txt', 'data_gb_exp-003_trial-045.txt', 'data_gb_exp-003_trial-046.txt', 'data_gb_exp-003_trial-047.txt', 'data_gb_exp-003_trial-048.txt', 'data_gb_exp-003_trial-049.txt', 'data_gb_exp-003_trial-050.txt', 'data_us_exp-001_trial-001.txt', 'data_us_exp-001_trial-002.txt', 'data_us_exp-001_trial-003.txt', 'data_us_exp-001_trial-004.txt', 'data_us_exp-001_trial-005.txt', 'data_us_exp-001_trial-006.txt', 'data_us_exp-001_trial-007.txt', 'data_us_exp-001_trial-008.txt', 'data_us_exp-001_trial-009.txt', 'data_us_exp-001_trial-010.txt', 'data_us_exp-001_trial-011.txt', 'data_us_exp-001_trial-012.txt', 'data_us_exp-001_trial-013.txt', 'data_us_exp-001_trial-014.txt', 'data_us_exp-001_trial-015.txt', 'data_us_exp-001_trial-016.txt', 'data_us_exp-001_trial-017.txt', 'data_us_exp-001_trial-018.txt', 'data_us_exp-001_trial-019.txt', 'data_us_exp-001_trial-020.txt', 'data_us_exp-001_trial-021.txt', 'data_us_exp-001_trial-022.txt', 'data_us_exp-001_trial-023.txt', 'data_us_exp-001_trial-024.txt', 'data_us_exp-001_trial-025.txt', 'data_us_exp-001_trial-026.txt', 'data_us_exp-001_trial-027.txt', 'data_us_exp-001_trial-028.txt', 'data_us_exp-001_trial-029.txt', 'data_us_exp-001_trial-030.txt', 'data_us_exp-001_trial-031.txt', 'data_us_exp-001_trial-032.txt', 'data_us_exp-001_trial-033.txt', 'data_us_exp-001_trial-034.txt', 'data_us_exp-001_trial-035.txt', 'data_us_exp-001_trial-036.txt', 'data_us_exp-001_trial-037.txt', 'data_us_exp-001_trial-038.txt', 'data_us_exp-001_trial-039.txt', 'data_us_exp-001_trial-040.txt', 'data_us_exp-001_trial-041.txt', 'data_us_exp-001_trial-042.txt', 'data_us_exp-001_trial-043.txt', 'data_us_exp-001_trial-044.txt', 'data_us_exp-001_trial-045.txt', 'data_us_exp-001_trial-046.txt', 'data_us_exp-001_trial-047.txt', 'data_us_exp-001_trial-048.txt', 'data_us_exp-001_trial-049.txt', 'data_us_exp-001_trial-050.txt', 'data_us_exp-002_trial-001.txt', 'data_us_exp-002_trial-002.txt', 'data_us_exp-002_trial-003.txt', 'data_us_exp-002_trial-004.txt', 'data_us_exp-002_trial-005.txt', 'data_us_exp-002_trial-006.txt', 'data_us_exp-002_trial-007.txt', 'data_us_exp-002_trial-008.txt', 'data_us_exp-002_trial-009.txt', 'data_us_exp-002_trial-010.txt', 'data_us_exp-002_trial-011.txt', 'data_us_exp-002_trial-012.txt', 'data_us_exp-002_trial-013.txt', 'data_us_exp-002_trial-014.txt', 'data_us_exp-002_trial-015.txt', 'data_us_exp-002_trial-016.txt', 'data_us_exp-002_trial-017.txt', 'data_us_exp-002_trial-018.txt', 'data_us_exp-002_trial-019.txt', 'data_us_exp-002_trial-020.txt', 'data_us_exp-002_trial-021.txt', 'data_us_exp-002_trial-022.txt', 'data_us_exp-002_trial-023.txt', 'data_us_exp-002_trial-024.txt', 'data_us_exp-002_trial-025.txt', 'data_us_exp-002_trial-026.txt', 'data_us_exp-002_trial-027.txt', 'data_us_exp-002_trial-028.txt', 'data_us_exp-002_trial-029.txt', 'data_us_exp-002_trial-030.txt', 'data_us_exp-002_trial-031.txt', 'data_us_exp-002_trial-032.txt', 'data_us_exp-002_trial-033.txt', 'data_us_exp-002_trial-034.txt', 'data_us_exp-002_trial-035.txt', 'data_us_exp-002_trial-036.txt', 'data_us_exp-002_trial-037.txt', 'data_us_exp-002_trial-038.txt', 'data_us_exp-002_trial-039.txt', 'data_us_exp-002_trial-040.txt', 'data_us_exp-002_trial-041.txt', 'data_us_exp-002_trial-042.txt', 'data_us_exp-002_trial-043.txt', 'data_us_exp-002_trial-044.txt', 'data_us_exp-002_trial-045.txt', 'data_us_exp-002_trial-046.txt', 'data_us_exp-002_trial-047.txt', 'data_us_exp-002_trial-048.txt', 'data_us_exp-002_trial-049.txt', 'data_us_exp-002_trial-050.txt', 'data_us_exp-003_trial-001.txt', 'data_us_exp-003_trial-002.txt', 'data_us_exp-003_trial-003.txt', 'data_us_exp-003_trial-004.txt', 'data_us_exp-003_trial-005.txt', 'data_us_exp-003_trial-006.txt', 'data_us_exp-003_trial-007.txt', 'data_us_exp-003_trial-008.txt', 'data_us_exp-003_trial-009.txt', 'data_us_exp-003_trial-010.txt', 'data_us_exp-003_trial-011.txt', 'data_us_exp-003_trial-012.txt', 'data_us_exp-003_trial-013.txt', 'data_us_exp-003_trial-014.txt', 'data_us_exp-003_trial-015.txt', 'data_us_exp-003_trial-016.txt', 'data_us_exp-003_trial-017.txt', 'data_us_exp-003_trial-018.txt', 'data_us_exp-003_trial-019.txt', 'data_us_exp-003_trial-020.txt', 'data_us_exp-003_trial-021.txt', 'data_us_exp-003_trial-022.txt', 'data_us_exp-003_trial-023.txt', 'data_us_exp-003_trial-024.txt', 'data_us_exp-003_trial-025.txt', 'data_us_exp-003_trial-026.txt', 'data_us_exp-003_trial-027.txt', 'data_us_exp-003_trial-028.txt', 'data_us_exp-003_trial-029.txt', 'data_us_exp-003_trial-030.txt', 'data_us_exp-003_trial-031.txt', 'data_us_exp-003_trial-032.txt', 'data_us_exp-003_trial-033.txt', 'data_us_exp-003_trial-034.txt', 'data_us_exp-003_trial-035.txt', 'data_us_exp-003_trial-036.txt', 'data_us_exp-003_trial-037.txt', 'data_us_exp-003_trial-038.txt', 'data_us_exp-003_trial-039.txt', 'data_us_exp-003_trial-040.txt', 'data_us_exp-003_trial-041.txt', 'data_us_exp-003_trial-042.txt', 'data_us_exp-003_trial-043.txt', 'data_us_exp-003_trial-044.txt', 'data_us_exp-003_trial-045.txt', 'data_us_exp-003_trial-046.txt', 'data_us_exp-003_trial-047.txt', 'data_us_exp-003_trial-048.txt', 'data_us_exp-003_trial-049.txt', 'data_us_exp-003_trial-050.txt']\n"
     ]
    }
   ],
   "source": [
    "countries = [\"sg\", \"gb\", \"us\"]\n",
    "data = []\n",
    "\n",
    "for z in countries:\n",
    "    \n",
    "    for x in range(1, 4):\n",
    "        \n",
    "        for y in range(1, 51):\n",
    "            \n",
    "            data.append(f'data_{z}_exp-{x:03.0f}_trial-{y:03.0f}.txt')\n",
    "        \n",
    "print(data)"
   ]
  },
  {
   "cell_type": "markdown",
   "id": "e9921b89",
   "metadata": {},
   "source": [
    "## Exercise 2 :  Tutti frutti"
   ]
  },
  {
   "cell_type": "code",
   "execution_count": 54,
   "id": "b735ee22",
   "metadata": {},
   "outputs": [
    {
     "name": "stdout",
     "output_type": "stream",
     "text": [
      "Mango are in fruits!\n"
     ]
    }
   ],
   "source": [
    "fruits = [\"apple\", \"banana\", \"pineapple\", \"jackfruit\",\n",
    "        \"peach\", \"durian\", \"watermelon\", \"mango\",\n",
    "        \"strawberry\", \"passionfruit\"]\n",
    "\n",
    "mango = \"mango\"\n",
    "\n",
    "if mango in fruits:\n",
    "    print(\"Mango are in fruits!\")\n",
    "\n",
    "else:\n",
    "    print(\"Mango aren't in fruits...\")"
   ]
  },
  {
   "cell_type": "code",
   "execution_count": 22,
   "id": "191b5139",
   "metadata": {},
   "outputs": [
    {
     "name": "stdout",
     "output_type": "stream",
     "text": [
      "['ae']\n",
      "['ba']\n",
      "['pe']\n",
      "['jt']\n",
      "['ph']\n",
      "['dn']\n",
      "['wn']\n",
      "['mo']\n",
      "['sy']\n",
      "['pt']\n"
     ]
    }
   ],
   "source": [
    "fruits = [\"apple\", \"banana\", \"pineapple\", \"jackfruit\",\n",
    "        \"peach\", \"durian\", \"watermelon\", \"mango\",\n",
    "        \"strawberry\", \"passionfruit\"]\n",
    "\n",
    "for i in fruits:\n",
    "    fru_start = i[0]\n",
    "    fru_end = i[-1]\n",
    "    print([fru_start + fru_end])"
   ]
  },
  {
   "cell_type": "code",
   "execution_count": 28,
   "id": "983ec3ca",
   "metadata": {},
   "outputs": [
    {
     "name": "stdout",
     "output_type": "stream",
     "text": [
      "apple\n",
      "banana\n",
      "PINEAPPLE\n",
      "jackfruit\n",
      "PEACH\n",
      "durian\n",
      "watermelon\n",
      "mango\n",
      "strawberry\n",
      "PASSIONFRUIT\n"
     ]
    }
   ],
   "source": [
    "for i in fruits:\n",
    "    fru_start = i[0]\n",
    "    if fru_start == 'p':\n",
    "        print(i.upper())\n",
    "    else:\n",
    "        print(i)"
   ]
  },
  {
   "cell_type": "code",
   "execution_count": 35,
   "id": "a5015f1a",
   "metadata": {},
   "outputs": [
    {
     "data": {
      "text/plain": [
       "['apple',\n",
       " 'banana',\n",
       " 'pineapple',\n",
       " 'jackfruit',\n",
       " 'peach',\n",
       " 'durian',\n",
       " 'watermelon',\n",
       " 'mango',\n",
       " 'strawberry',\n",
       " 'passionfruit',\n",
       " 'dragon fruit',\n",
       " 'apricots',\n",
       " 'oranges']"
      ]
     },
     "execution_count": 35,
     "metadata": {},
     "output_type": "execute_result"
    }
   ],
   "source": [
    "fruits += [\"dragon fruit\", \"apricots\", \"oranges\"]\n",
    "fruits"
   ]
  },
  {
   "cell_type": "code",
   "execution_count": 36,
   "id": "330abedd",
   "metadata": {},
   "outputs": [
    {
     "data": {
      "text/plain": [
       "['dragon fruit',\n",
       " 'apricots',\n",
       " 'oranges',\n",
       " 'apple',\n",
       " 'banana',\n",
       " 'pineapple',\n",
       " 'jackfruit',\n",
       " 'peach',\n",
       " 'durian',\n",
       " 'watermelon',\n",
       " 'mango',\n",
       " 'strawberry',\n",
       " 'passionfruit',\n",
       " 'dragon fruit',\n",
       " 'apricots',\n",
       " 'oranges']"
      ]
     },
     "execution_count": 36,
     "metadata": {},
     "output_type": "execute_result"
    }
   ],
   "source": [
    "fruits = [\"dragon fruit\", \"apricots\", \"oranges\"] + fruits\n",
    "fruits"
   ]
  },
  {
   "cell_type": "code",
   "execution_count": 37,
   "id": "b6212fa2",
   "metadata": {},
   "outputs": [
    {
     "data": {
      "text/plain": [
       "['dragon fruit',\n",
       " 'apricots',\n",
       " 'oranges',\n",
       " 'apple',\n",
       " 'banana',\n",
       " 'pineapple',\n",
       " 'jackfruit',\n",
       " 'peach',\n",
       " 'dragon fruit',\n",
       " 'apricots',\n",
       " 'oranges',\n",
       " 'durian',\n",
       " 'watermelon',\n",
       " 'mango',\n",
       " 'strawberry',\n",
       " 'passionfruit',\n",
       " 'dragon fruit',\n",
       " 'apricots',\n",
       " 'oranges']"
      ]
     },
     "execution_count": 37,
     "metadata": {},
     "output_type": "execute_result"
    }
   ],
   "source": [
    "mid = len(fruits) // 2\n",
    "fruits = fruits[:mid] + [\"dragon fruit\", \"apricots\", \"oranges\"] + fruits[mid:]\n",
    "fruits"
   ]
  },
  {
   "cell_type": "code",
   "execution_count": 55,
   "id": "5e0252ab",
   "metadata": {},
   "outputs": [
    {
     "data": {
      "text/plain": [
       "['dragon fruit',\n",
       " 'pineapple',\n",
       " 'jackfruit',\n",
       " 'dragon fruit',\n",
       " 'watermelon',\n",
       " 'strawberry',\n",
       " 'passionfruit',\n",
       " 'dragon fruit']"
      ]
     },
     "execution_count": 55,
     "metadata": {},
     "output_type": "execute_result"
    }
   ],
   "source": [
    "[i for i in fruits if len(i) > 8]"
   ]
  },
  {
   "cell_type": "markdown",
   "id": "978a4f73",
   "metadata": {},
   "source": [
    "## Exercise 3 :  Ciao Fibonacci"
   ]
  },
  {
   "cell_type": "code",
   "execution_count": 11,
   "id": "e8f34748",
   "metadata": {},
   "outputs": [
    {
     "name": "stdout",
     "output_type": "stream",
     "text": [
      "[0, 1, 1, 2, 3, 5, 8, 13, 21, 34, 55, 89, 144, 233, 377]\n"
     ]
    }
   ],
   "source": [
    "fibonnaci=[0, 1]\n",
    "\n",
    "for i in fibonnaci:\n",
    "    fibonnaci.append(fibonnaci[-1] + fibonnaci[-2])\n",
    "    if len(fibonnaci) >= 15: break\n",
    "\n",
    "print(fibonnaci)"
   ]
  },
  {
   "cell_type": "markdown",
   "id": "bbe30c26",
   "metadata": {},
   "source": [
    "## Exercise 4 :  A function for Fibonacci"
   ]
  },
  {
   "cell_type": "code",
   "execution_count": 49,
   "id": "77801435",
   "metadata": {},
   "outputs": [],
   "source": [
    "def fibonacci(n):  # when defining own function, cannot carry over anything\n",
    "    fibonacc1=[0, 1] # including lists\n",
    "    if type(n) != int:\n",
    "        return (\"cannot\")\n",
    "    elif n == 0:\n",
    "        return []\n",
    "    elif n == 1:\n",
    "        return [0]\n",
    "    elif n < 0:\n",
    "        return (\"error\")\n",
    "    while len(fibonacc1) < n:\n",
    "        fibonacc1.append(fibonacc1[-1] + fibonacc1[-2])\n",
    "    return fibonacc1"
   ]
  },
  {
   "cell_type": "code",
   "execution_count": 43,
   "id": "4b39905d",
   "metadata": {},
   "outputs": [
    {
     "data": {
      "text/plain": [
       "[0, 1, 1, 2, 3]"
      ]
     },
     "execution_count": 43,
     "metadata": {},
     "output_type": "execute_result"
    }
   ],
   "source": [
    "fibonacci(5)"
   ]
  },
  {
   "cell_type": "code",
   "execution_count": 44,
   "id": "78950846",
   "metadata": {},
   "outputs": [
    {
     "data": {
      "text/plain": [
       "[]"
      ]
     },
     "execution_count": 44,
     "metadata": {},
     "output_type": "execute_result"
    }
   ],
   "source": [
    "fibonacci(0)"
   ]
  },
  {
   "cell_type": "code",
   "execution_count": 45,
   "id": "7dca6f4f",
   "metadata": {},
   "outputs": [
    {
     "data": {
      "text/plain": [
       "[0]"
      ]
     },
     "execution_count": 45,
     "metadata": {},
     "output_type": "execute_result"
    }
   ],
   "source": [
    "fibonacci(1)"
   ]
  },
  {
   "cell_type": "code",
   "execution_count": 46,
   "id": "86848b5e",
   "metadata": {},
   "outputs": [
    {
     "data": {
      "text/plain": [
       "[0, 1]"
      ]
     },
     "execution_count": 46,
     "metadata": {},
     "output_type": "execute_result"
    }
   ],
   "source": [
    "fibonacci(2)"
   ]
  },
  {
   "cell_type": "code",
   "execution_count": 47,
   "id": "22602813",
   "metadata": {},
   "outputs": [
    {
     "data": {
      "text/plain": [
       "'error'"
      ]
     },
     "execution_count": 47,
     "metadata": {},
     "output_type": "execute_result"
    }
   ],
   "source": [
    "fibonacci(-3)"
   ]
  },
  {
   "cell_type": "code",
   "execution_count": 48,
   "id": "26683ec5",
   "metadata": {},
   "outputs": [
    {
     "data": {
      "text/plain": [
       "'cannot'"
      ]
     },
     "execution_count": 48,
     "metadata": {},
     "output_type": "execute_result"
    }
   ],
   "source": [
    "fibonacci(\"haha\")"
   ]
  },
  {
   "cell_type": "markdown",
   "id": "6ce1fa11",
   "metadata": {},
   "source": [
    "## Exercise 5 :  max_info() without NumPy"
   ]
  },
  {
   "cell_type": "code",
   "execution_count": 66,
   "id": "a7a0126e",
   "metadata": {},
   "outputs": [],
   "source": [
    "numbers = [40, 27, 83, 44, 74, 51, 76, 77, 10, 49]"
   ]
  },
  {
   "cell_type": "code",
   "execution_count": 67,
   "id": "a0240c10",
   "metadata": {},
   "outputs": [],
   "source": [
    "def max_info(numbers):\n",
    "    num = 0\n",
    "    for x in numbers:\n",
    "        if x >= num:\n",
    "            num = x\n",
    "    return num"
   ]
  },
  {
   "cell_type": "code",
   "execution_count": 68,
   "id": "0a3b440f",
   "metadata": {},
   "outputs": [
    {
     "data": {
      "text/plain": [
       "83"
      ]
     },
     "execution_count": 68,
     "metadata": {},
     "output_type": "execute_result"
    }
   ],
   "source": [
    "max_info([40, 27, 83, 44, 74, 51, 76, 77, 10, 49])"
   ]
  },
  {
   "cell_type": "markdown",
   "id": "f3c58fff",
   "metadata": {},
   "source": [
    "## Exercise 6 :  Take count"
   ]
  },
  {
   "cell_type": "code",
   "execution_count": 33,
   "id": "2139fcd9",
   "metadata": {},
   "outputs": [
    {
     "name": "stdout",
     "output_type": "stream",
     "text": [
      "254\n",
      "254\n",
      "250\n",
      "249\n",
      "247\n"
     ]
    },
    {
     "data": {
      "text/plain": [
       "(array(['A', 'C', 'G', 'T'], dtype='<U1'),\n",
       " array([247, 250, 249, 254], dtype=int64))"
      ]
     },
     "execution_count": 33,
     "metadata": {},
     "output_type": "execute_result"
    }
   ],
   "source": [
    "dna_sequence = \"AGGCAAGAAGCTAGAATTCTGGCCTGAGTATCTCAGTACAGGCGCAGTCGAATCTTCCGGAATCACATTGCTCGCGCTTAAACCCGCTCTAAACCTTTGAGTAATTCGACGACATTGGGTTCCCTCCGACGCTGTCTGACAACTCTTTAAGATCCTTGGCACGATGTCGATAGACATTGTCCCTGATGACGCCTCACAAGGTAACCTGGCTCTAGTAGGGTGGTCTTTGCTGCGGAACTTACCACCTGGTGGATCCAAGCACCAGAGGAGTTCGAAGAGGCTGGGGTACCCCCTATTTAGGAAGGGCGAGACTACGGTCACAAATTCCAAATGGCTTCCCTCGATTCATGACGCCAGAATGCCTGGCTGTGCCAATTTGTCGCCTTGCGTCGTTCTGTCAATCTTTACTCGTGTCGTGTTGTGATAAATGACAAACCCTGCACAACGTAGGGCTCACACAAGGGAATCTAGAGTATCCGATACAGGGAGCTTTAGCTTCCGTCCCTTATAGCCTGCCATATTCTTGCGGTAGCACGAGCCTCAGATCTTCTCACTCCGGAAATGGGAGCTTCGACGGTCAAGGGCTAAGACGTCTTCGGGAGAAATACCTAGGCGATGACCCTGAGTGGTTTTCCGCGTATAACTCATCCTGGTTGCAAATGATTACCGTTATAGCCTGGGGATATGCCTCAATTCCGAACCCAGGAGCATCACTCGAGCAATAGCGGTAAAGGAGGCTATTAGCAAAATTGTCACGATAAGCGCCGTTGTAGTGAAATTAAGATACATACATCGTTTAGCACATCACTCTCACGGCGTCTAGAAGCTGATCTTCATATGCTGACTCAGAAGGCTCGGATAATAGAGGACGAAGGTAGTTTACTCATCGCTGCCCCGACTATTACGTGTGCATGATAAAGTCTGACCCTGACGTTCCCAAGCCGAGGCAGAGGGGTTTTACGCTGAATGTCCGCTCTCTGTCGGATGATTTCGGAAGCTG\"\n",
    "dna_list = list(dna_sequence)\n",
    "\n",
    "print(len([num for num in dna_list if num == 'T']))\n",
    "\n",
    "T_num = 0\n",
    "C_num = 0\n",
    "G_num = 0\n",
    "A_num = 0\n",
    "for i in dna_list:\n",
    "    if i == 'T':\n",
    "        T_num += 1\n",
    "    if i == 'C':\n",
    "        C_num += 1\n",
    "    if i == 'G':\n",
    "        G_num += 1\n",
    "    if i == 'A':\n",
    "        A_num += 1\n",
    "\n",
    "dictionary = {\"T\": T_num,\n",
    "             \"C\": C_num,\n",
    "             \"G\": G_num,\n",
    "             \"A\": A_num\n",
    "             }\n",
    "print(dictionary[\"T\"])\n",
    "print(dictionary[\"C\"])\n",
    "print(dictionary[\"G\"])\n",
    "print(dictionary[\"A\"])\n",
    "\n",
    "np.unique(dna_list, return_counts=True)"
   ]
  },
  {
   "cell_type": "code",
   "execution_count": 36,
   "id": "82f6f714",
   "metadata": {},
   "outputs": [
    {
     "data": {
      "text/plain": [
       "[['A', 'G', 'G', 'C'],\n",
       " ['A', 'A', 'G', 'A'],\n",
       " ['A', 'G', 'C', 'T'],\n",
       " ['A', 'G', 'A', 'A'],\n",
       " ['T', 'T', 'C', 'T'],\n",
       " ['G', 'G', 'C', 'C'],\n",
       " ['T', 'G', 'A', 'G'],\n",
       " ['T', 'A', 'T', 'C'],\n",
       " ['T', 'C', 'A', 'G'],\n",
       " ['T', 'A', 'C', 'A'],\n",
       " ['G', 'G', 'C', 'G'],\n",
       " ['C', 'A', 'G', 'T'],\n",
       " ['C', 'G', 'A', 'A'],\n",
       " ['T', 'C', 'T', 'T'],\n",
       " ['C', 'C', 'G', 'G'],\n",
       " ['A', 'A', 'T', 'C'],\n",
       " ['A', 'C', 'A', 'T'],\n",
       " ['T', 'G', 'C', 'T'],\n",
       " ['C', 'G', 'C', 'G'],\n",
       " ['C', 'T', 'T', 'A'],\n",
       " ['A', 'A', 'C', 'C'],\n",
       " ['C', 'G', 'C', 'T'],\n",
       " ['C', 'T', 'A', 'A'],\n",
       " ['A', 'C', 'C', 'T'],\n",
       " ['T', 'T', 'G', 'A'],\n",
       " ['G', 'T', 'A', 'A'],\n",
       " ['T', 'T', 'C', 'G'],\n",
       " ['A', 'C', 'G', 'A'],\n",
       " ['C', 'A', 'T', 'T'],\n",
       " ['G', 'G', 'G', 'T'],\n",
       " ['T', 'C', 'C', 'C'],\n",
       " ['T', 'C', 'C', 'G'],\n",
       " ['A', 'C', 'G', 'C'],\n",
       " ['T', 'G', 'T', 'C'],\n",
       " ['T', 'G', 'A', 'C'],\n",
       " ['A', 'A', 'C', 'T'],\n",
       " ['C', 'T', 'T', 'T'],\n",
       " ['A', 'A', 'G', 'A'],\n",
       " ['T', 'C', 'C', 'T'],\n",
       " ['T', 'G', 'G', 'C'],\n",
       " ['A', 'C', 'G', 'A'],\n",
       " ['T', 'G', 'T', 'C'],\n",
       " ['G', 'A', 'T', 'A'],\n",
       " ['G', 'A', 'C', 'A'],\n",
       " ['T', 'T', 'G', 'T'],\n",
       " ['C', 'C', 'C', 'T'],\n",
       " ['G', 'A', 'T', 'G'],\n",
       " ['A', 'C', 'G', 'C'],\n",
       " ['C', 'T', 'C', 'A'],\n",
       " ['C', 'A', 'A', 'G'],\n",
       " ['G', 'T', 'A', 'A'],\n",
       " ['C', 'C', 'T', 'G'],\n",
       " ['G', 'C', 'T', 'C'],\n",
       " ['T', 'A', 'G', 'T'],\n",
       " ['A', 'G', 'G', 'G'],\n",
       " ['T', 'G', 'G', 'T'],\n",
       " ['C', 'T', 'T', 'T'],\n",
       " ['G', 'C', 'T', 'G'],\n",
       " ['C', 'G', 'G', 'A'],\n",
       " ['A', 'C', 'T', 'T'],\n",
       " ['A', 'C', 'C', 'A'],\n",
       " ['C', 'C', 'T', 'G'],\n",
       " ['G', 'T', 'G', 'G'],\n",
       " ['A', 'T', 'C', 'C'],\n",
       " ['A', 'A', 'G', 'C'],\n",
       " ['A', 'C', 'C', 'A'],\n",
       " ['G', 'A', 'G', 'G'],\n",
       " ['A', 'G', 'T', 'T'],\n",
       " ['C', 'G', 'A', 'A'],\n",
       " ['G', 'A', 'G', 'G'],\n",
       " ['C', 'T', 'G', 'G'],\n",
       " ['G', 'G', 'T', 'A'],\n",
       " ['C', 'C', 'C', 'C'],\n",
       " ['C', 'T', 'A', 'T'],\n",
       " ['T', 'T', 'A', 'G'],\n",
       " ['G', 'A', 'A', 'G'],\n",
       " ['G', 'G', 'C', 'G'],\n",
       " ['A', 'G', 'A', 'C'],\n",
       " ['T', 'A', 'C', 'G'],\n",
       " ['G', 'T', 'C', 'A'],\n",
       " ['C', 'A', 'A', 'A'],\n",
       " ['T', 'T', 'C', 'C'],\n",
       " ['A', 'A', 'A', 'T'],\n",
       " ['G', 'G', 'C', 'T'],\n",
       " ['T', 'C', 'C', 'C'],\n",
       " ['T', 'C', 'G', 'A'],\n",
       " ['T', 'T', 'C', 'A'],\n",
       " ['T', 'G', 'A', 'C'],\n",
       " ['G', 'C', 'C', 'A'],\n",
       " ['G', 'A', 'A', 'T'],\n",
       " ['G', 'C', 'C', 'T'],\n",
       " ['G', 'G', 'C', 'T'],\n",
       " ['G', 'T', 'G', 'C'],\n",
       " ['C', 'A', 'A', 'T'],\n",
       " ['T', 'T', 'G', 'T'],\n",
       " ['C', 'G', 'C', 'C'],\n",
       " ['T', 'T', 'G', 'C'],\n",
       " ['G', 'T', 'C', 'G'],\n",
       " ['T', 'T', 'C', 'T'],\n",
       " ['G', 'T', 'C', 'A'],\n",
       " ['A', 'T', 'C', 'T'],\n",
       " ['T', 'T', 'A', 'C'],\n",
       " ['T', 'C', 'G', 'T'],\n",
       " ['G', 'T', 'C', 'G'],\n",
       " ['T', 'G', 'T', 'T'],\n",
       " ['G', 'T', 'G', 'A'],\n",
       " ['T', 'A', 'A', 'A'],\n",
       " ['T', 'G', 'A', 'C'],\n",
       " ['A', 'A', 'A', 'C'],\n",
       " ['C', 'C', 'T', 'G'],\n",
       " ['C', 'A', 'C', 'A'],\n",
       " ['A', 'C', 'G', 'T'],\n",
       " ['A', 'G', 'G', 'G'],\n",
       " ['C', 'T', 'C', 'A'],\n",
       " ['C', 'A', 'C', 'A'],\n",
       " ['A', 'G', 'G', 'G'],\n",
       " ['A', 'A', 'T', 'C'],\n",
       " ['T', 'A', 'G', 'A'],\n",
       " ['G', 'T', 'A', 'T'],\n",
       " ['C', 'C', 'G', 'A'],\n",
       " ['T', 'A', 'C', 'A'],\n",
       " ['G', 'G', 'G', 'A'],\n",
       " ['G', 'C', 'T', 'T'],\n",
       " ['T', 'A', 'G', 'C'],\n",
       " ['T', 'T', 'C', 'C'],\n",
       " ['G', 'T', 'C', 'C'],\n",
       " ['C', 'T', 'T', 'A'],\n",
       " ['T', 'A', 'G', 'C'],\n",
       " ['C', 'T', 'G', 'C'],\n",
       " ['C', 'A', 'T', 'A'],\n",
       " ['T', 'T', 'C', 'T'],\n",
       " ['T', 'G', 'C', 'G'],\n",
       " ['G', 'T', 'A', 'G'],\n",
       " ['C', 'A', 'C', 'G'],\n",
       " ['A', 'G', 'C', 'C'],\n",
       " ['T', 'C', 'A', 'G'],\n",
       " ['A', 'T', 'C', 'T'],\n",
       " ['T', 'C', 'T', 'C'],\n",
       " ['A', 'C', 'T', 'C'],\n",
       " ['C', 'G', 'G', 'A'],\n",
       " ['A', 'A', 'T', 'G'],\n",
       " ['G', 'G', 'A', 'G'],\n",
       " ['C', 'T', 'T', 'C'],\n",
       " ['G', 'A', 'C', 'G'],\n",
       " ['G', 'T', 'C', 'A'],\n",
       " ['A', 'G', 'G', 'G'],\n",
       " ['C', 'T', 'A', 'A'],\n",
       " ['G', 'A', 'C', 'G'],\n",
       " ['T', 'C', 'T', 'T'],\n",
       " ['C', 'G', 'G', 'G'],\n",
       " ['A', 'G', 'A', 'A'],\n",
       " ['A', 'T', 'A', 'C'],\n",
       " ['C', 'T', 'A', 'G'],\n",
       " ['G', 'C', 'G', 'A'],\n",
       " ['T', 'G', 'A', 'C'],\n",
       " ['C', 'C', 'T', 'G'],\n",
       " ['A', 'G', 'T', 'G'],\n",
       " ['G', 'T', 'T', 'T'],\n",
       " ['T', 'C', 'C', 'G'],\n",
       " ['C', 'G', 'T', 'A'],\n",
       " ['T', 'A', 'A', 'C'],\n",
       " ['T', 'C', 'A', 'T'],\n",
       " ['C', 'C', 'T', 'G'],\n",
       " ['G', 'T', 'T', 'G'],\n",
       " ['C', 'A', 'A', 'A'],\n",
       " ['T', 'G', 'A', 'T'],\n",
       " ['T', 'A', 'C', 'C'],\n",
       " ['G', 'T', 'T', 'A'],\n",
       " ['T', 'A', 'G', 'C'],\n",
       " ['C', 'T', 'G', 'G'],\n",
       " ['G', 'G', 'A', 'T'],\n",
       " ['A', 'T', 'G', 'C'],\n",
       " ['C', 'T', 'C', 'A'],\n",
       " ['A', 'T', 'T', 'C'],\n",
       " ['C', 'G', 'A', 'A'],\n",
       " ['C', 'C', 'C', 'A'],\n",
       " ['G', 'G', 'A', 'G'],\n",
       " ['C', 'A', 'T', 'C'],\n",
       " ['A', 'C', 'T', 'C'],\n",
       " ['G', 'A', 'G', 'C'],\n",
       " ['A', 'A', 'T', 'A'],\n",
       " ['G', 'C', 'G', 'G'],\n",
       " ['T', 'A', 'A', 'A'],\n",
       " ['G', 'G', 'A', 'G'],\n",
       " ['G', 'C', 'T', 'A'],\n",
       " ['T', 'T', 'A', 'G'],\n",
       " ['C', 'A', 'A', 'A'],\n",
       " ['A', 'T', 'T', 'G'],\n",
       " ['T', 'C', 'A', 'C'],\n",
       " ['G', 'A', 'T', 'A'],\n",
       " ['A', 'G', 'C', 'G'],\n",
       " ['C', 'C', 'G', 'T'],\n",
       " ['T', 'G', 'T', 'A'],\n",
       " ['G', 'T', 'G', 'A'],\n",
       " ['A', 'A', 'T', 'T'],\n",
       " ['A', 'A', 'G', 'A'],\n",
       " ['T', 'A', 'C', 'A'],\n",
       " ['T', 'A', 'C', 'A'],\n",
       " ['T', 'C', 'G', 'T'],\n",
       " ['T', 'T', 'A', 'G'],\n",
       " ['C', 'A', 'C', 'A'],\n",
       " ['T', 'C', 'A', 'C'],\n",
       " ['T', 'C', 'T', 'C'],\n",
       " ['A', 'C', 'G', 'G'],\n",
       " ['C', 'G', 'T', 'C'],\n",
       " ['T', 'A', 'G', 'A'],\n",
       " ['A', 'G', 'C', 'T'],\n",
       " ['G', 'A', 'T', 'C'],\n",
       " ['T', 'T', 'C', 'A'],\n",
       " ['T', 'A', 'T', 'G'],\n",
       " ['C', 'T', 'G', 'A'],\n",
       " ['C', 'T', 'C', 'A'],\n",
       " ['G', 'A', 'A', 'G'],\n",
       " ['G', 'C', 'T', 'C'],\n",
       " ['G', 'G', 'A', 'T'],\n",
       " ['A', 'A', 'T', 'A'],\n",
       " ['G', 'A', 'G', 'G'],\n",
       " ['A', 'C', 'G', 'A'],\n",
       " ['A', 'G', 'G', 'T'],\n",
       " ['A', 'G', 'T', 'T'],\n",
       " ['T', 'A', 'C', 'T'],\n",
       " ['C', 'A', 'T', 'C'],\n",
       " ['G', 'C', 'T', 'G'],\n",
       " ['C', 'C', 'C', 'C'],\n",
       " ['G', 'A', 'C', 'T'],\n",
       " ['A', 'T', 'T', 'A'],\n",
       " ['C', 'G', 'T', 'G'],\n",
       " ['T', 'G', 'C', 'A'],\n",
       " ['T', 'G', 'A', 'T'],\n",
       " ['A', 'A', 'A', 'G'],\n",
       " ['T', 'C', 'T', 'G'],\n",
       " ['A', 'C', 'C', 'C'],\n",
       " ['T', 'G', 'A', 'C'],\n",
       " ['G', 'T', 'T', 'C'],\n",
       " ['C', 'C', 'A', 'A'],\n",
       " ['G', 'C', 'C', 'G'],\n",
       " ['A', 'G', 'G', 'C'],\n",
       " ['A', 'G', 'A', 'G'],\n",
       " ['G', 'G', 'G', 'T'],\n",
       " ['T', 'T', 'T', 'A'],\n",
       " ['C', 'G', 'C', 'T'],\n",
       " ['G', 'A', 'A', 'T'],\n",
       " ['G', 'T', 'C', 'C'],\n",
       " ['G', 'C', 'T', 'C'],\n",
       " ['T', 'C', 'T', 'G'],\n",
       " ['T', 'C', 'G', 'G'],\n",
       " ['A', 'T', 'G', 'A'],\n",
       " ['T', 'T', 'T', 'C'],\n",
       " ['G', 'G', 'A', 'A'],\n",
       " ['G', 'C', 'T', 'G']]"
      ]
     },
     "execution_count": 36,
     "metadata": {},
     "output_type": "execute_result"
    }
   ],
   "source": [
    "[dna_list[i:i+4] for i in range(0, len(dna_list), 4)]"
   ]
  }
 ],
 "metadata": {
  "kernelspec": {
   "display_name": "Python 3 (ipykernel)",
   "language": "python",
   "name": "python3"
  },
  "language_info": {
   "codemirror_mode": {
    "name": "ipython",
    "version": 3
   },
   "file_extension": ".py",
   "mimetype": "text/x-python",
   "name": "python",
   "nbconvert_exporter": "python",
   "pygments_lexer": "ipython3",
   "version": "3.10.8"
  },
  "toc": {
   "base_numbering": 1,
   "nav_menu": {},
   "number_sections": true,
   "sideBar": true,
   "skip_h1_title": false,
   "title_cell": "Table of Contents",
   "title_sidebar": "Contents",
   "toc_cell": false,
   "toc_position": {},
   "toc_section_display": true,
   "toc_window_display": false
  },
  "varInspector": {
   "cols": {
    "lenName": 16,
    "lenType": 16,
    "lenVar": 40
   },
   "kernels_config": {
    "python": {
     "delete_cmd_postfix": "",
     "delete_cmd_prefix": "del ",
     "library": "var_list.py",
     "varRefreshCmd": "print(var_dic_list())"
    },
    "r": {
     "delete_cmd_postfix": ") ",
     "delete_cmd_prefix": "rm(",
     "library": "var_list.r",
     "varRefreshCmd": "cat(var_dic_list()) "
    }
   },
   "types_to_exclude": [
    "module",
    "function",
    "builtin_function_or_method",
    "instance",
    "_Feature"
   ],
   "window_display": false
  },
  "vscode": {
   "interpreter": {
    "hash": "31f2aee4e71d21fbe5cf8b01ff0e069b9275f58929596ceb00d14d90e3e16cd6"
   }
  }
 },
 "nbformat": 4,
 "nbformat_minor": 5
}
