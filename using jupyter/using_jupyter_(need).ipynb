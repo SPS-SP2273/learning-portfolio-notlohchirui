{
 "cells": [
  {
   "cell_type": "markdown",
   "id": "123456",
   "metadata": {},
   "source": [
    "<div style=\"text-align:left;font-size:2em\"><span style=\"font-weight:bolder;font-size:1.25em\">SP2273 | Learning Portfolio</span><br><br><span style=\"font-weight:bold;color:darkred\">Using Jupyter (Need)</span></div>"
   ]
  },
  {
   "cell_type": "markdown",
   "id": "835b165b",
   "metadata": {},
   "source": [
    "## 1 Getting started with Jupyter"
   ]
  },
  {
   "cell_type": "markdown",
   "id": "6a61370b",
   "metadata": {},
   "source": [
    "### 1.1 Its all about running cells"
   ]
  },
  {
   "cell_type": "code",
   "execution_count": 2,
   "id": "4ddc3404",
   "metadata": {},
   "outputs": [
    {
     "name": "stdout",
     "output_type": "stream",
     "text": [
      "6\n"
     ]
    }
   ],
   "source": [
    "a = 4\n",
    "b = 2\n",
    "c = a + b\n",
    "print(c)"
   ]
  },
  {
   "cell_type": "markdown",
   "id": "92b97b7f",
   "metadata": {},
   "source": [
    "### 1.2 A traditional start"
   ]
  },
  {
   "cell_type": "code",
   "execution_count": 3,
   "id": "4a8e3a35",
   "metadata": {},
   "outputs": [
    {
     "name": "stdout",
     "output_type": "stream",
     "text": [
      "Hello World!\n"
     ]
    }
   ],
   "source": [
    "print('Hello World!')"
   ]
  },
  {
   "cell_type": "markdown",
   "id": "c33b8b16",
   "metadata": {},
   "source": [
    "## 2 All about Markdown"
   ]
  },
  {
   "cell_type": "markdown",
   "id": "80f4df30",
   "metadata": {},
   "source": [
    "### 2.1 Rendering Markdown cells"
   ]
  },
  {
   "cell_type": "markdown",
   "id": "bc894e7d",
   "metadata": {},
   "source": [
    "The ships hung in the sky in much the same way that bricks don't."
   ]
  },
  {
   "cell_type": "markdown",
   "id": "06b0ddac",
   "metadata": {},
   "source": [
    "### 2.2 Some basic syntax"
   ]
  },
  {
   "cell_type": "markdown",
   "id": "af3cd1f2",
   "metadata": {},
   "source": [
    "The ships *hung in the sky* in much the same way that **bricks don't.**<sup>1<sup/><sub>QUOTE<sub/>"
   ]
  },
  {
   "cell_type": "markdown",
   "id": "a790fdd9",
   "metadata": {},
   "source": [
    "### 2.3 Headings"
   ]
  },
  {
   "cell_type": "markdown",
   "id": "cfb6ddf0",
   "metadata": {},
   "source": [
    "## The ships hung in the sky in much the same way that bricks don't."
   ]
  },
  {
   "cell_type": "markdown",
   "id": "71f5ba64",
   "metadata": {},
   "source": [
    "### 2.4 Displaying Code"
   ]
  },
  {
   "cell_type": "markdown",
   "id": "a0d5124d",
   "metadata": {},
   "source": [
    "```python\n",
    "print('Hello World!')\n",
    "```"
   ]
  },
  {
   "cell_type": "markdown",
   "id": "c8174aef",
   "metadata": {},
   "source": [
    "### 2.5 Links"
   ]
  },
  {
   "cell_type": "markdown",
   "id": "3c530ce0",
   "metadata": {},
   "source": [
    "[SP2273 Website](https://sps.nus.edu.sg/sp2273)"
   ]
  },
  {
   "cell_type": "markdown",
   "id": "c320c19a",
   "metadata": {},
   "source": [
    "### 2.6 Images"
   ]
  },
  {
   "cell_type": "markdown",
   "id": "b4465c6a",
   "metadata": {},
   "source": [
    "![](https://nus.edu.sg/images/default-source/base/logo.png)"
   ]
  },
  {
   "cell_type": "markdown",
   "id": "9d2a8933",
   "metadata": {},
   "source": [
    "### 2.7 Tables"
   ]
  },
  {
   "cell_type": "markdown",
   "id": "a9bc8033",
   "metadata": {},
   "source": [
    "| A    |  B   |    C |\n",
    "| :--- | :--: | ---: |\n",
    "| a1   |  b1  |   c1 |\n",
    "| a2   |  b2  |   c2 |\n",
    "| a3   |  b3  |   c3 |"
   ]
  },
  {
   "cell_type": "markdown",
   "id": "d28a8315",
   "metadata": {},
   "source": [
    "### 2.8 Lists"
   ]
  },
  {
   "cell_type": "markdown",
   "id": "ce396830",
   "metadata": {},
   "source": [
    "1. Master Yoda\n",
    "   1. Was a Jedi\n",
    "   2. Was a bit green\n",
    "2. Luke Skywalker\n",
    "   1. Was a Jedi\n",
    "   2. Is Anakin's son.\n",
    "3. Anakin Skywalker\n",
    "   1. Was a Jedi then became a baddie\n",
    "   2. Is famous for saying 'Luke, I am your father'"
   ]
  },
  {
   "cell_type": "markdown",
   "id": "caa0cff4",
   "metadata": {},
   "source": [
    "### 2.9 Equations"
   ]
  },
  {
   "cell_type": "markdown",
   "id": "377717fe",
   "metadata": {},
   "source": [
    "$$x = \\dfrac{-b \\pm \\sqrt{b^2-4ac}}{2a}$$"
   ]
  },
  {
   "cell_type": "markdown",
   "id": "c2d91a72",
   "metadata": {},
   "source": [
    "## Exercise 1 :  Put it in Markdown"
   ]
  },
  {
   "cell_type": "markdown",
   "id": "65c27d3c",
   "metadata": {},
   "source": [
    "#### Quadratic Equations\n",
    "\n",
    "![](https://upload.wikimedia.org/wikipedia/commons/thumb/f/f8/Polynomialdeg2.svg/300px-Polynomialdeg2.svg.png)\n",
    "\n",
    "*(Image from the [Wikipedia page on Quadratic equations](https://en.wikipedia.org/wiki/Quadratic_equation))*\n",
    "\n",
    "#### Introduction\n",
    "\n",
    "The general form of a quadratic equation is:\n",
    "\n",
    "$$ax^2 + bx + c = 0$$\n",
    "\n",
    "**Solutions** Provided $a\\ne 0$, we can use an elementary algebraic method called [completing the square](https://en.wikipedia.org/wiki/Completing_the_square) to show that a quadratic equation has the following solution:\n",
    "\n",
    "$$x = \\dfrac{-b \\pm \\sqrt{b^2-4ac}}{2a}$$\n",
    "\n",
    "#### Discriminant\n",
    "\n",
    "The quantity $Δ = b^2 - 4ac$ is called the **discriminant** of the equation and decides the nature of its solutions. The table below shows the various possibilities.\n",
    "\n",
    "|**Discriminant**|**Roots**|\n",
    "|:--:|:--|\n",
    "|$$\\Delta = b^2 - 4ac = 0$$|A single solution of $-b/(2a)$|\n",
    "|$$\\Delta = b^2 - 4ac > 0$$|Two distinct solutions|\n",
    "|$$\\Delta = b^2 - 4ac < 0$$|No real solutions; both are complex.|"
   ]
  },
  {
   "cell_type": "markdown",
   "id": "230060df",
   "metadata": {},
   "source": [
    "## Exercise 2 :  In your own words"
   ]
  },
  {
   "cell_type": "markdown",
   "id": "97596c95",
   "metadata": {},
   "source": [
    "1. A folder which can keep track of file changes on the Github server that is used to hold our Learning Portfolio.\n",
    "2. changes\n",
    "3. A commit is to manually specify which file changes in the Learning Portfolio, that will be recorded on the Github server.\n",
    "4. A push is to share/upload the commits into the Github cloud.\n",
    "5. Github is a cloud server, while Github desktop is an application (tool) with a Graphics User Interface (GUI), used to access the locally saved repository and make file changes, without the use of the online cloud server.\n",
    "6. Fetch."
   ]
  }
 ],
 "metadata": {
  "kernelspec": {
   "display_name": "Python 3 (ipykernel)",
   "language": "python",
   "name": "python3"
  },
  "language_info": {
   "codemirror_mode": {
    "name": "ipython",
    "version": 3
   },
   "file_extension": ".py",
   "mimetype": "text/x-python",
   "name": "python",
   "nbconvert_exporter": "python",
   "pygments_lexer": "ipython3",
   "version": "3.10.8"
  },
  "toc": {
   "base_numbering": 1,
   "nav_menu": {},
   "number_sections": true,
   "sideBar": true,
   "skip_h1_title": false,
   "title_cell": "Table of Contents",
   "title_sidebar": "Contents",
   "toc_cell": false,
   "toc_position": {},
   "toc_section_display": true,
   "toc_window_display": false
  },
  "varInspector": {
   "cols": {
    "lenName": 16,
    "lenType": 16,
    "lenVar": 40
   },
   "kernels_config": {
    "python": {
     "delete_cmd_postfix": "",
     "delete_cmd_prefix": "del ",
     "library": "var_list.py",
     "varRefreshCmd": "print(var_dic_list())"
    },
    "r": {
     "delete_cmd_postfix": ") ",
     "delete_cmd_prefix": "rm(",
     "library": "var_list.r",
     "varRefreshCmd": "cat(var_dic_list()) "
    }
   },
   "types_to_exclude": [
    "module",
    "function",
    "builtin_function_or_method",
    "instance",
    "_Feature"
   ],
   "window_display": false
  },
  "vscode": {
   "interpreter": {
    "hash": "31f2aee4e71d21fbe5cf8b01ff0e069b9275f58929596ceb00d14d90e3e16cd6"
   }
  }
 },
 "nbformat": 4,
 "nbformat_minor": 5
}
